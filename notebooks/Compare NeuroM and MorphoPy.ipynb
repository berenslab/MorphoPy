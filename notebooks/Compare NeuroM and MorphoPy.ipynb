{
 "cells": [
  {
   "cell_type": "code",
   "metadata": {
    "jupyter": {
     "is_executing": true
    }
   },
   "source": [
    "import neurom as nm\n",
    "\n",
    "import pandas as pd\n",
    "import networkx as nx\n",
    "import numpy as np\n",
    "\n",
    "# To delete when installation works\n",
    "import sys\n",
    "sys.path.append(\"../\")\n",
    "\n",
    "from morphopy.neurontree import NeuronTree as nt\n",
    "\n",
    "import matplotlib.pyplot as plt\n",
    "import seaborn as sns"
   ],
   "outputs": [],
   "execution_count": null
  },
  {
   "cell_type": "code",
   "execution_count": 2,
   "metadata": {},
   "outputs": [],
   "source": [
    "data_path = \"./persistence_test/data/C010398B-P2.CNG.swc\"\n",
    "\n",
    "swc = pd.read_csv(data_path,delim_whitespace=True, comment='#',\n",
    "                  names=['n', 'type', 'x', 'y', 'z', 'radius', 'parent'], index_col=False)"
   ]
  },
  {
   "cell_type": "code",
   "execution_count": 3,
   "metadata": {},
   "outputs": [
    {
     "name": "stderr",
     "output_type": "stream",
     "text": [
      "/usr/local/lib/python3.5/dist-packages/neurom/core/_soma.py:237: UserWarning: Using neuromorpho 3-Point soma\n",
      "  warnings.warn('Using neuromorpho 3-Point soma')\n",
      "/usr/local/lib/python3.5/dist-packages/neurom/core/_soma.py:168: UserWarning: The second point must be one radius below 0 on the y-plane for SomaNeuromorphoThreePointCylinders(array([[27.48 , 22.09 ,  2.37 ,  6.474,  1.   ,  1.   , -1.   ],\n",
      "       [27.48 , 28.56 ,  2.37 ,  6.474,  1.   ,  2.   ,  1.   ],\n",
      "       [27.48 , 15.61 ,  2.37 ,  6.474,  1.   ,  3.   ,  1.   ]])) <center: [27.48 22.09  2.37], radius: 7.928590038588197>\n",
      "  'The second point must be one radius below 0 on the y-plane for {}'.format(self))\n",
      "/usr/local/lib/python3.5/dist-packages/neurom/core/_soma.py:171: UserWarning: The third point must be one radius above 0 on the y-plane for SomaNeuromorphoThreePointCylinders(array([[27.48 , 22.09 ,  2.37 ,  6.474,  1.   ,  1.   , -1.   ],\n",
      "       [27.48 , 28.56 ,  2.37 ,  6.474,  1.   ,  2.   ,  1.   ],\n",
      "       [27.48 , 15.61 ,  2.37 ,  6.474,  1.   ,  3.   ,  1.   ]])) <center: [27.48 22.09  2.37], radius: 7.928590038588197>\n",
      "  'The third point must be one radius above 0 on the y-plane for {}'.format(self))\n"
     ]
    }
   ],
   "source": [
    "nm_neuron = nm.load_neuron(data_path)"
   ]
  },
  {
   "cell_type": "code",
   "execution_count": 4,
   "metadata": {},
   "outputs": [],
   "source": [
    "nt_neuron = nt.NeuronTree(swc)"
   ]
  },
  {
   "cell_type": "code",
   "execution_count": 5,
   "metadata": {},
   "outputs": [],
   "source": [
    "z_nm = dict()\n",
    "z_nm['branch points'] = nm.get('number_of_bifurcations', nm_neuron)[0]\n",
    "\n",
    "\n",
    "z_nm['tips'] = nm.get('number_of_terminations',nm_neuron)[0]\n",
    "z_nm['stems'] = nm.get('number_of_neurites',nm_neuron)[0]\n",
    "z_nm['total length'] = nm.get('total_length',nm_neuron)[0]\n",
    "z_nm['avg thickness'] = np.mean(nm.get('segment_radii', nm_neuron))\n",
    "\n",
    "z_nm['total surface'] = np.sum(nm.get('total_area_per_neurite',nm_neuron))\n",
    "\n",
    "z_nm['max branch order'] = np.max(nm.get('section_branch_orders', nm_neuron))\n",
    "\n",
    "z_nm['max log tortuosity'] = np.log(np.percentile(nm.get('section_tortuosity', nm_neuron),99.5))\n",
    "z_nm['min branch angle'] = np.min(nm.get('local_bifurcation_angles', nm_neuron))/np.pi*180\n",
    "z_nm['max branch angle'] = np.max(nm.get('local_bifurcation_angles', nm_neuron))/np.pi*180\n",
    "z_nm['mean branch angle'] = np.mean(nm.get('local_bifurcation_angles', nm_neuron))/np.pi*180\n"
   ]
  },
  {
   "cell_type": "code",
   "execution_count": 6,
   "metadata": {},
   "outputs": [],
   "source": [
    "neurites = nt_neuron.get_neurites(soma_included=False)"
   ]
  },
  {
   "cell_type": "code",
   "execution_count": 7,
   "metadata": {},
   "outputs": [],
   "source": [
    "x = {'branch points':0, 'tips':0, 'total length':0, 'max branch order':0, \n",
    "    'min branch angle': 180, 'max branch angle': 0}\n",
    "\n",
    "for n in neurites:\n",
    "    x['branch points'] += n.get_branchpoints().size\n",
    "    x['tips'] += n.get_tips().size\n",
    "    x['total length'] += np.sum(list(n.get_edge_attributes('path_length').values()))\n",
    "    x['max branch order'] = np.max((x['max branch order'], np.max(list(n.get_branch_order().values()))))\n",
    "    \n",
    "branch_angles = list(nt_neuron.get_branch_angles().values())\n",
    "\n",
    "x['min branch angle'] = np.min(branch_angles)\n",
    "x['max branch angle'] = np.max(branch_angles)    \n",
    "x['mean branch angle'] = np.mean(branch_angles)\n",
    "x['stems'] = len(neurites)\n",
    "\n",
    "radii = nt_neuron.get_node_attributes('radius')\n",
    "# delete the soma\n",
    "radii.pop(nt_neuron.get_root())\n",
    "x['avg thickness'] = np.mean(list(radii.values()))\n",
    "\n",
    "x['total surface'] = np.sum([s[1] for s in nt_neuron.get_surface().items() if s[0][0] != 1])\n",
    "\n",
    "R = nt_neuron.get_topological_minor()\n",
    "tortuosity = np.array([e[2]['path_length'] / e[2]['euclidean_dist'] for e in R.edges(data=True) if e[1] != R.get_root()])\n",
    "x['max log tortuosity'] = np.log(np.percentile(tortuosity,99.5))\n",
    "\n",
    "path_angles = list(nt_neuron.get_path_angles().values())"
   ]
  },
  {
   "cell_type": "code",
   "execution_count": 8,
   "metadata": {},
   "outputs": [
    {
     "data": {
      "text/plain": [
       "(array([  2.,   2.,   5.,  14.,  29.,  86., 187., 339., 385., 209.]),\n",
       " array([  2.27029858,  20.04222912,  37.81415966,  55.58609021,\n",
       "         73.35802075,  91.12995129, 108.90188183, 126.67381238,\n",
       "        144.44574292, 162.21767346, 179.98960401]),\n",
       " <a list of 10 Patch objects>)"
      ]
     },
     "execution_count": 8,
     "metadata": {},
     "output_type": "execute_result"
    },
    {
     "data": {
      "image/png": "[encoded data removed]",
      "text/plain": [
       "<matplotlib.figure.Figure at 0x7fe9a101e828>"
      ]
     },
     "metadata": {
      "needs_background": "light"
     },
     "output_type": "display_data"
    }
   ],
   "source": [
    "plt.hist(180-np.array(path_angles), alpha=.5)\n",
    "plt.hist(nm.get('segment_meander_angles', nm_neuron)/np.pi*180, alpha=.5)"
   ]
  },
  {
   "cell_type": "code",
   "execution_count": 9,
   "metadata": {},
   "outputs": [],
   "source": [
    "T = nt_neuron\n",
    "z = dict()\n",
    "\n",
    "z['branch points'] = T.get_branchpoints().size\n",
    "\n",
    "tips = T.get_tips()\n",
    "\n",
    "z['tips'] = tips.size\n",
    "\n",
    "z['stems'] = len(T.edges(1))\n",
    "\n",
    "z['total length'] = np.sum(list(T.get_edge_attributes('path_length').values()))\n",
    "# get all radii\n",
    "radii = T.get_node_attributes('radius')\n",
    "# delete the soma\n",
    "radii.pop(T.get_root())\n",
    "z['avg thickness'] = np.mean(list(radii.values()))\n",
    "\n",
    "z['total surface'] = np.sum(list(T.get_surface().values()))\n",
    "\n",
    "z['max branch order'] = np.max(list(T.get_branch_order().values()))\n",
    "\n",
    "branch_angles = list(T.get_branch_angles().values())\n",
    "z['max branch angle'] = np.max(branch_angles)\n",
    "z['min branch angle'] = np.min(branch_angles)\n",
    "z['mean branch angle'] = np.mean(branch_angles)\n",
    "\n",
    "\n",
    "tortuosity = [e[2]['path_length'] / e[2]['euclidean_dist'] for e in R.edges(data=True)]\n",
    "\n",
    "z['max log tortuosity'] = np.log(np.percentile(tortuosity,99.5))\n",
    "\n",
    "\n"
   ]
  },
  {
   "cell_type": "code",
   "execution_count": 10,
   "metadata": {
    "scrolled": false
   },
   "outputs": [],
   "source": [
    "df = pd.DataFrame(z, index=['NeuronTree']).append(pd.DataFrame(x, index=['NeuronTree \\n (no soma)']).append(pd.DataFrame(z_nm, index=['NeuroM'])))"
   ]
  },
  {
   "cell_type": "code",
   "execution_count": 11,
   "metadata": {},
   "outputs": [
    {
     "data": {
      "text/html": [
       "<div>\n",
       "<style scoped>\n",
       "    .dataframe tbody tr th:only-of-type {\n",
       "        vertical-align: middle;\n",
       "    }\n",
       "\n",
       "    .dataframe tbody tr th {\n",
       "        vertical-align: top;\n",
       "    }\n",
       "\n",
       "    .dataframe thead th {\n",
       "        text-align: right;\n",
       "    }\n",
       "</style>\n",
       "<table border=\"1\" class=\"dataframe\">\n",
       "  <thead>\n",
       "    <tr style=\"text-align: right;\">\n",
       "      <th></th>\n",
       "      <th>NeuronTree</th>\n",
       "      <th>NeuronTree \n",
       " (no soma)</th>\n",
       "      <th>NeuroM</th>\n",
       "    </tr>\n",
       "  </thead>\n",
       "  <tbody>\n",
       "    <tr>\n",
       "      <th>avg thickness</th>\n",
       "      <td>0.212922</td>\n",
       "      <td>0.212922</td>\n",
       "      <td>0.204238</td>\n",
       "    </tr>\n",
       "    <tr>\n",
       "      <th>branch points</th>\n",
       "      <td>35.000000</td>\n",
       "      <td>34.000000</td>\n",
       "      <td>34.000000</td>\n",
       "    </tr>\n",
       "    <tr>\n",
       "      <th>max branch angle</th>\n",
       "      <td>137.290397</td>\n",
       "      <td>137.290397</td>\n",
       "      <td>137.290397</td>\n",
       "    </tr>\n",
       "    <tr>\n",
       "      <th>max branch order</th>\n",
       "      <td>9.000000</td>\n",
       "      <td>8.000000</td>\n",
       "      <td>8.000000</td>\n",
       "    </tr>\n",
       "    <tr>\n",
       "      <th>max log tortuosity</th>\n",
       "      <td>0.438295</td>\n",
       "      <td>0.438295</td>\n",
       "      <td>0.438579</td>\n",
       "    </tr>\n",
       "    <tr>\n",
       "      <th>mean branch angle</th>\n",
       "      <td>73.760638</td>\n",
       "      <td>73.760638</td>\n",
       "      <td>73.760638</td>\n",
       "    </tr>\n",
       "    <tr>\n",
       "      <th>min branch angle</th>\n",
       "      <td>8.634836</td>\n",
       "      <td>8.634836</td>\n",
       "      <td>8.634836</td>\n",
       "    </tr>\n",
       "    <tr>\n",
       "      <th>stems</th>\n",
       "      <td>11.000000</td>\n",
       "      <td>11.000000</td>\n",
       "      <td>9.000000</td>\n",
       "    </tr>\n",
       "    <tr>\n",
       "      <th>tips</th>\n",
       "      <td>45.000000</td>\n",
       "      <td>45.000000</td>\n",
       "      <td>43.000000</td>\n",
       "    </tr>\n",
       "    <tr>\n",
       "      <th>total length</th>\n",
       "      <td>7123.449510</td>\n",
       "      <td>7036.522849</td>\n",
       "      <td>7036.522849</td>\n",
       "    </tr>\n",
       "    <tr>\n",
       "      <th>total surface</th>\n",
       "      <td>11049.200159</td>\n",
       "      <td>8524.099605</td>\n",
       "      <td>8524.099605</td>\n",
       "    </tr>\n",
       "  </tbody>\n",
       "</table>\n",
       "</div>"
      ],
      "text/plain": [
       "                      NeuronTree  NeuronTree \\n (no soma)       NeuroM\n",
       "avg thickness           0.212922                 0.212922     0.204238\n",
       "branch points          35.000000                34.000000    34.000000\n",
       "max branch angle      137.290397               137.290397   137.290397\n",
       "max branch order        9.000000                 8.000000     8.000000\n",
       "max log tortuosity      0.438295                 0.438295     0.438579\n",
       "mean branch angle      73.760638                73.760638    73.760638\n",
       "min branch angle        8.634836                 8.634836     8.634836\n",
       "stems                  11.000000                11.000000     9.000000\n",
       "tips                   45.000000                45.000000    43.000000\n",
       "total length         7123.449510              7036.522849  7036.522849\n",
       "total surface       11049.200159              8524.099605  8524.099605"
      ]
     },
     "execution_count": 11,
     "metadata": {},
     "output_type": "execute_result"
    }
   ],
   "source": [
    "df.T"
   ]
  },
  {
   "cell_type": "code",
   "execution_count": 12,
   "metadata": {
    "scrolled": true
   },
   "outputs": [
    {
     "data": {
      "text/plain": [
       "<matplotlib.legend.Legend at 0x7fe99fbcbcc0>"
      ]
     },
     "execution_count": 12,
     "metadata": {},
     "output_type": "execute_result"
    },
    {
     "data": {
      "image/png": "[encoded data removed]",
      "text/plain": [
       "<matplotlib.figure.Figure at 0x7fe99fd6a390>"
      ]
     },
     "metadata": {
      "needs_background": "light"
     },
     "output_type": "display_data"
    }
   ],
   "source": [
    "xses = np.vstack((np.arange(0.5,11.5,1),np.arange(1,12,1)))\n",
    "colors = sns.color_palette()\n",
    "plt.figure(figsize=(10,5))\n",
    "plt.subplot(121)\n",
    "plt.bar(xses[0,:],np.log(df.iloc[0].values), label= df.iloc[0].name, color=colors[0], width=.5)\n",
    "plt.bar(xses[1,:],np.log(df.iloc[2].values), label= df.iloc[2].name, color=colors[2], width=.5)\n",
    "sns.despine()\n",
    "plt.ylabel('log(value)')\n",
    "\n",
    "plt.gca().set_xticks(np.arange(.75,12,1))\n",
    "_ = plt.gca().set_xticklabels(df.columns, rotation=90)\n",
    "plt.legend(frameon=False, loc=2)\n",
    "\n",
    "plt.subplot(122)\n",
    "plt.bar(xses[0,:],np.log(df.iloc[1].values), label= df.iloc[1].name, color=colors[1], width=.5)\n",
    "plt.bar(xses[1,:],np.log(df.iloc[2].values), label= df.iloc[2].name, color=colors[2], width=.5)\n",
    "sns.despine()\n",
    "plt.ylabel('log(value)')\n",
    "\n",
    "plt.gca().set_xticks(np.arange(.75,12,1))\n",
    "_ = plt.gca().set_xticklabels(df.columns, rotation=90)\n",
    "\n",
    "plt.legend(frameon=False, loc=2)"
   ]
  }
 ],
 "metadata": {
  "kernelspec": {
   "display_name": "Python 3",
   "language": "python",
   "name": "python3"
  },
  "language_info": {
   "codemirror_mode": {
    "name": "ipython",
    "version": 3
   },
   "file_extension": ".py",
   "mimetype": "text/x-python",
   "name": "python",
   "nbconvert_exporter": "python",
   "pygments_lexer": "ipython3",
   "version": "3.7.5"
  }
 },
 "nbformat": 4,
 "nbformat_minor": 2
}
